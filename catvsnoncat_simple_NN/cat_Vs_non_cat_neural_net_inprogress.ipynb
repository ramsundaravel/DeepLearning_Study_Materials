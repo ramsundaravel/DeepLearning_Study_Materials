{
 "cells": [
  {
   "cell_type": "markdown",
   "metadata": {},
   "source": [
    "### Neural network model to distinguish cat vs non cat\n",
    "This is the first model created after learning nuts/ bolts present in NN by Ram Sundaravel.\n",
    "\n",
    "this model needs further tunning on gradient descent.\n",
    "\n",
    "#### History Log\n",
    "1. Initial completion - 19 July 2018"
   ]
  },
  {
   "cell_type": "markdown",
   "metadata": {},
   "source": [
    "### import library"
   ]
  },
  {
   "cell_type": "code",
   "execution_count": 418,
   "metadata": {},
   "outputs": [],
   "source": [
    "# import libary\n",
    "import h5py\n",
    "import numpy as np\n",
    "from matplotlib import pyplot as plt"
   ]
  },
  {
   "cell_type": "markdown",
   "metadata": {},
   "source": [
    "### Helper function to load dataset from hdf5 file"
   ]
  },
  {
   "cell_type": "code",
   "execution_count": 419,
   "metadata": {},
   "outputs": [],
   "source": [
    "def load_data_set(train_file, test_file):  \n",
    "    train = h5py.File(train_file,\"r\")\n",
    "    test = h5py.File(test_file,\"r\")\n",
    "\n",
    "    # explore hdf5 dataset\n",
    "#     print(\"keys in h5py file\")\n",
    "#     for key in train.keys():\n",
    "#         print(\"   \",key)\n",
    "\n",
    "    # creation of train test matrix from h5py file\n",
    "    traininig_x = np.array(train['train_set_x'])\n",
    "    training_y = np.array(train['train_set_y'])\n",
    "    train_classes = np.array(train['list_classes'])\n",
    "\n",
    "    test_x = np.array(test['test_set_x'])\n",
    "    test_y = np.array(test['test_set_y'],ndmin=1)\n",
    "    test_classes = np.array(test['list_classes'])\n",
    "\n",
    "    #printing information about train and test sets\n",
    "    # print('Training set X : ', traininig_x.shape)\n",
    "    # print('Training set Y : ', training_y.shape)\n",
    "    # print('Test set X : ', test_x.shape)\n",
    "    # print('Test set Y : ', test_y.shape)\n",
    "    print(\"Data set load Successful~~~\")\n",
    "    print('Number of samples in training data : ' + str(Y.shape[1]))\n",
    "    return traininig_x,training_y,test_x,test_y,train_classes "
   ]
  },
  {
   "cell_type": "markdown",
   "metadata": {},
   "source": [
    "### Initialize parameters \n",
    "initialize paramaters w and b for each layer"
   ]
  },
  {
   "cell_type": "code",
   "execution_count": 420,
   "metadata": {},
   "outputs": [],
   "source": [
    "def initialize_parameters(layers_dim):\n",
    "    np.random.seed(3)\n",
    "    parameters = {}\n",
    "    for l in range(1,len(layers_dim)):\n",
    "        parameters['W'+str(l)] = np.random.randn(layers_dim[l],layers_dim[l-1]) /np.sqrt(layers_dim[l-1]) #*.01\n",
    "        parameters['b'+str(l)] = np.zeros((layers_dim[l],1))\n",
    "        assert(parameters['W'+str(l)].shape) == (layers_dim[l],layers_dim[l-1])\n",
    "        # make sure dimension of w is (number of neurons current, previous_layer_neurons)\n",
    "        assert(parameters['b'+str(l)].shape) == (layers_dim[l],1)\n",
    "    return parameters"
   ]
  },
  {
   "cell_type": "markdown",
   "metadata": {},
   "source": [
    "### Derive forward linear function "
   ]
  },
  {
   "cell_type": "code",
   "execution_count": 421,
   "metadata": {},
   "outputs": [],
   "source": [
    "def linear_forward(W,b,A_Prev):\n",
    "    Z = np.dot(W,A_Prev) + b\n",
    "    cache = (W,b,A_Prev)\n",
    "    # print(Z.shape)\n",
    "    return Z, cache"
   ]
  },
  {
   "cell_type": "markdown",
   "metadata": {},
   "source": [
    "### Forward Activation function"
   ]
  },
  {
   "cell_type": "code",
   "execution_count": 422,
   "metadata": {},
   "outputs": [],
   "source": [
    "def linear_forward_activation(W,b,A_prev,activation):\n",
    "    Z,linear_function_cache = linear_forward(W,b,A_prev)\n",
    "    \n",
    "    if activation == 'sigmoid':\n",
    "        A = 1/(1+np.exp(-Z))\n",
    "    \n",
    "    if activation == 'relu':\n",
    "        A = np.maximum(0,Z) # Z * (Z>0)\n",
    "    \n",
    "    cache = linear_function_cache, Z\n",
    "    return A, cache"
   ]
  },
  {
   "cell_type": "markdown",
   "metadata": {},
   "source": [
    "### Forward propogation"
   ]
  },
  {
   "cell_type": "code",
   "execution_count": 423,
   "metadata": {},
   "outputs": [],
   "source": [
    "def model_forward_propogation(X,layers_dim,parameters):\n",
    "    number_of_layers = int(len(parameters)/2)\n",
    "    A = X\n",
    "    caches = {}\n",
    "\n",
    "\n",
    "    for layer in range(1, number_of_layers):\n",
    "        A_prev = A\n",
    "        A,cache = linear_forward_activation(W=parameters['W'+str(layer)],\n",
    "                                             b = parameters['b'+str(layer)],\n",
    "                                             A_prev=A_prev,\n",
    "                                             activation='relu')\n",
    "        caches['layer'+ str(layer)] = cache\n",
    "        \n",
    "    AL,cache = linear_forward_activation(W=parameters['W'+str(number_of_layers)],\n",
    "                                         b = parameters['b'+str(number_of_layers)],\n",
    "                                         A_prev=A, # fixed code to pass final - 1 output to final layer\n",
    "                                         activation='sigmoid')\n",
    "    # caches.append(cache)\n",
    "    caches['layer'+ str(number_of_layers)] = cache\n",
    "\n",
    "    assert(AL.shape == (1,X.shape[1]))\n",
    "    return AL, caches"
   ]
  },
  {
   "cell_type": "markdown",
   "metadata": {},
   "source": [
    "### Compute cost"
   ]
  },
  {
   "cell_type": "code",
   "execution_count": 424,
   "metadata": {},
   "outputs": [],
   "source": [
    "def compute_cost(AL,Y):\n",
    "    m = Y.shape[1] # number of samples\n",
    "    # compute cost\n",
    "    cost = (-1 / m) * np.sum(np.multiply(Y, np.log(AL)) + np.multiply(1 - Y, np.log(1 - AL)))\n",
    "    \n",
    "    assert np.squeeze(cost).shape == () # assert cost is just single decimal value\n",
    "    return cost"
   ]
  },
  {
   "cell_type": "markdown",
   "metadata": {},
   "source": [
    "## Helper functions for doing back propogation\n",
    "### Sigmoid and Relu backprop derivative"
   ]
  },
  {
   "cell_type": "code",
   "execution_count": 425,
   "metadata": {},
   "outputs": [],
   "source": [
    "def sigmoid_bacward_derivation(dA,activation_cache):\n",
    "    Z = activation_cache\n",
    "    A = 1 / (1 + np.exp(-Z))\n",
    "    dZ = dA * A * (1 - A)\n",
    "    assert (dZ.shape == dA.shape)\n",
    "    return dZ\n",
    "\n",
    "def relu_backward_derivation(dA,activation_cache):\n",
    "    Z = activation_cache\n",
    "    # print('Z shape ' , Z.shape)\n",
    "    # print('dA shape ' , dA.shape)\n",
    "    dZ = np.array(dA,copy=True)  # just copy dA to dZ\n",
    "    dZ[Z<=0] = 0\n",
    "    assert (dZ.shape == Z.shape)\n",
    "    return dZ"
   ]
  },
  {
   "cell_type": "markdown",
   "metadata": {},
   "source": [
    "### Backward linear activation\n",
    "This function takes dA and returns dW, db, dA_prev"
   ]
  },
  {
   "cell_type": "code",
   "execution_count": 426,
   "metadata": {},
   "outputs": [],
   "source": [
    "def backward_linear_activation(dA,cache, activation):\n",
    "    linear_activation,activation_cache = cache\n",
    "    W,b,A_prev = linear_activation\n",
    "    m = A_prev.shape[1]\n",
    "    \n",
    "    # find dZ\n",
    "    if activation =='sigmoid':\n",
    "        dZ = sigmoid_bacward_derivation(dA,activation_cache)\n",
    "    \n",
    "    if activation == 'relu':\n",
    "        dZ = relu_backward_derivation(dA,activation_cache)\n",
    "    \n",
    "    # find dW,db,dA_prev\n",
    "    dW = (1/m) * np.dot(dZ,A_prev.T)\n",
    "    db = 1 / m * np.sum(dZ, axis=1, keepdims=True)\n",
    "    dA_prev = np.dot(W.T, dZ)\n",
    "    \n",
    "    assert(dA_prev.shape == A_prev.shape)\n",
    "    assert(dW.shape == W.shape)\n",
    "    assert(db.shape == b.shape)\n",
    "    \n",
    "    return dA_prev,dW, db  "
   ]
  },
  {
   "cell_type": "markdown",
   "metadata": {},
   "source": [
    "### model backprop for Layer L to 1"
   ]
  },
  {
   "cell_type": "code",
   "execution_count": 427,
   "metadata": {},
   "outputs": [],
   "source": [
    "def model_backward_propogation(AL,Y,caches):\n",
    "    L = len(caches)  # number of layers\n",
    "    m = AL.shape[1] # number of samples\n",
    "    grads = {}\n",
    "    \n",
    "    # find derivative of loss with repect to output layer (dAL)  \n",
    "    dAL = - (np.divide(Y, AL) - np.divide(1 - Y, 1 - AL))\n",
    "    \n",
    "    # find dA_prev, dW, db for final or output layer .. (sigmoid function)\n",
    "    # print('processing layer ' ,L)\n",
    "    current_cache = caches['layer'+ str(L)]\n",
    "    grads['dA'+str(L)], grads['dW'+str(L)], grads['db'+str(L)] = backward_linear_activation(dAL,current_cache,'sigmoid')\n",
    "    # print(\"   \",grads.keys())\n",
    "    \n",
    "    for processing_layer in reversed(range(1,L)):\n",
    "        # print('processing layer ' ,processing_layer)\n",
    "        current_cache = caches['layer'+ str(processing_layer)] \n",
    "        dA_prev_temp, dW_temp, db_temp = backward_linear_activation(dA=grads['dA'+str(processing_layer+1)],\n",
    "                                                                       cache = current_cache,\n",
    "                                                                       activation = 'relu')\n",
    "        grads['dA'+str(processing_layer)] = dA_prev_temp\n",
    "        grads['dW' + str(processing_layer)] = dW_temp\n",
    "        grads['db' + str(processing_layer)] = db_temp\n",
    "        # print(\"    \",grads.keys())\n",
    "    \n",
    "    return grads"
   ]
  },
  {
   "cell_type": "markdown",
   "metadata": {},
   "source": [
    "### Update parameters(W,b) after each iteration"
   ]
  },
  {
   "cell_type": "code",
   "execution_count": 428,
   "metadata": {},
   "outputs": [],
   "source": [
    "def update_parameters(parameters,grads,learning_rate):\n",
    "    for key in parameters:\n",
    "        parameters[key] = parameters[key] - learning_rate * grads['d'+key]\n",
    "    return parameters"
   ]
  },
  {
   "cell_type": "markdown",
   "metadata": {},
   "source": [
    "### Training Neural Network model"
   ]
  },
  {
   "cell_type": "code",
   "execution_count": 429,
   "metadata": {},
   "outputs": [],
   "source": [
    "def NN_model(X,Y,layers_dim,learning_rate,number_of_iterations,print_cost = True):\n",
    "    \n",
    "    # np.random.seed(1)\n",
    "    \n",
    "    # initialize parameters\n",
    "    parameters = initialize_parameters(layers_dim) # moved from forward prop to NN_model because paramaters needs to \n",
    "    # updated for every iteration\n",
    "    \n",
    "    cost_overall = []\n",
    "    \n",
    "    print('Model Training Started.........')\n",
    "    \n",
    "    for iteration in range(number_of_iterations):\n",
    "        # run forward propogation\n",
    "        AL,caches = model_forward_propogation(X,layers_dim,parameters)\n",
    "\n",
    "        #find cost\n",
    "        cost = compute_cost(AL,Y)\n",
    "        cost_overall.append(cost)\n",
    "\n",
    "        # find gradients through back propagation\n",
    "        grads = model_backward_propogation(AL,Y,caches)\n",
    "\n",
    "\n",
    "        # update parameters\n",
    "        parameters = update_parameters(parameters,grads,learning_rate)\n",
    "    \n",
    "    \n",
    "        if print_cost and ((iteration + 1) % 100) == 0 :\n",
    "            print('\\t' + 'Cost at iteration ' + str(iteration+1) + \" : \" + str(cost))\n",
    "    \n",
    "    print('\\nModel training completed. Final cost value : ' + str(cost)+'\\n')\n",
    "        \n",
    "    plt.plot(list(range(1,number_of_iterations+1)),cost_overall)\n",
    "    plt.xlabel(\"Number of iterations\")\n",
    "    plt.ylabel(\"Cost \\ Loss Value \")      \n",
    "    return parameters"
   ]
  },
  {
   "cell_type": "markdown",
   "metadata": {},
   "source": [
    "### Prediction"
   ]
  },
  {
   "cell_type": "code",
   "execution_count": 476,
   "metadata": {},
   "outputs": [],
   "source": [
    "def predict(X,parameters,layers_dimensions):\n",
    "    layers_dim = layers_dimensions\n",
    "    prediction,cache = model_forward_propogation(X,layers_dim,parameters)\n",
    "    prediction[prediction>0.5] = 1 # making probability as 1 if > 0.5\n",
    "    prediction[prediction<=0.5] = 0 # else 0\n",
    "    return prediction"
   ]
  },
  {
   "cell_type": "markdown",
   "metadata": {},
   "source": [
    "### Accuracy"
   ]
  },
  {
   "cell_type": "code",
   "execution_count": 488,
   "metadata": {},
   "outputs": [],
   "source": [
    "def accuracy(actual,prediction):\n",
    "    number_of_samples = actual.shape[1]\n",
    "    return np.sum(actual==prediction)/number_of_samples"
   ]
  },
  {
   "cell_type": "code",
   "execution_count": 490,
   "metadata": {},
   "outputs": [
    {
     "name": "stdout",
     "output_type": "stream",
     "text": [
      "Data set load Successful~~~\n",
      "Number of samples in training data : 209\n",
      "Model Training Started.........\n",
      "\tCost at iteration 100 : 0.6748981256615372\n",
      "\tCost at iteration 200 : 0.6604181859340813\n",
      "\tCost at iteration 300 : 0.6464216435368101\n",
      "\tCost at iteration 400 : 0.6296794253464358\n",
      "\tCost at iteration 500 : 0.6062643879406038\n",
      "\tCost at iteration 600 : 0.5701185635526206\n",
      "\tCost at iteration 700 : 0.5251302589115943\n",
      "\tCost at iteration 800 : 0.469067636582436\n",
      "\tCost at iteration 900 : 0.4054166351314118\n",
      "\tCost at iteration 1000 : 0.35442304205283554\n",
      "\tCost at iteration 1100 : 0.3036651905785779\n",
      "\tCost at iteration 1200 : 0.260367178920788\n",
      "\tCost at iteration 1300 : 0.2307140304919252\n",
      "\tCost at iteration 1400 : 0.19923588072710438\n",
      "\tCost at iteration 1500 : 0.17592828125603754\n",
      "\tCost at iteration 1600 : 0.157628940968325\n",
      "\tCost at iteration 1700 : 0.14378699667349207\n",
      "\tCost at iteration 1800 : 0.13100815261179094\n",
      "\tCost at iteration 1900 : 0.11918237712896151\n",
      "\tCost at iteration 2000 : 0.09477873377038516\n",
      "\tCost at iteration 2100 : 0.05897371684141637\n",
      "\tCost at iteration 2200 : 0.045021908507830694\n",
      "\tCost at iteration 2300 : 0.03817944216114449\n",
      "\tCost at iteration 2400 : 0.03443433137758357\n",
      "\tCost at iteration 2500 : 0.03176649230103527\n",
      "\n",
      "Model training completed. Final cost value : 0.03176649230103527\n",
      "\n",
      "Accuracy of test set :  0.78\n"
     ]
    },
    {
     "data": {
      "image/png": "[encoded data removed]",
      "text/plain": [
       "<Figure size 432x288 with 1 Axes>"
      ]
     },
     "metadata": {},
     "output_type": "display_data"
    }
   ],
   "source": [
    "#data files \n",
    "training_file = 'dataset/cat_not_cat_dataset/train_catvsnotcat.h5'\n",
    "test_file = 'dataset/cat_not_cat_dataset/test_catvsnotcat.h5'\n",
    "\n",
    "## Neural net inputs]\n",
    "layers_dimensions = [12288, 20, 7, 5, 1]\n",
    "learning_rate = 0.0075\n",
    "number_of_iterations = 2500\n",
    "\n",
    "# load data\n",
    "train_x, train_y, test_x,test_y,classes = load_data_set(training_file,test_file)\n",
    "\n",
    "# reshape input data and normalize\n",
    "training_x_flatten = train_x.reshape(train_x.shape[0],-1).T #  -1 for collapase other dimensions  # T - Transpose\n",
    "training_y_flatten = train_y.reshape(train_x.shape[0],-1).T\n",
    "test_x_flatten = test_x.reshape(test_x.shape[0],-1).T #  -1 for collapase other dimensions  # T - Transpose\n",
    "test_y_flatten = test_y.reshape(test_x.shape[0],-1).T\n",
    "train_x = training_x_flatten / 255 \n",
    "test_x = test_x_flatten / 255\n",
    "train_y = training_y_flatten \n",
    "test_y = test_y_flatten \n",
    "\n",
    "## Train a neural network model\n",
    "model  = NN_model(X=train_x,\n",
    "                      Y=train_y,\n",
    "                      layers_dim=layers_dimensions,\n",
    "                      learning_rate=learning_rate,\n",
    "                      number_of_iterations=number_of_iterations)\n",
    "## prediction\n",
    "prediction = predict(X= test_x,parameters=model,layers_dimensions=layers_dimensions)\n",
    "\n",
    "## test accuracy\n",
    "accuracy_value = accuracy(test_y,prediction)\n",
    "\n",
    "print(\"Accuracy of test set : \" , accuracy_value)"
   ]
  },
  {
   "cell_type": "code",
   "execution_count": 489,
   "metadata": {},
   "outputs": [
    {
     "data": {
      "text/plain": [
       "0.78"
      ]
     },
     "execution_count": 489,
     "metadata": {},
     "output_type": "execute_result"
    }
   ],
   "source": [
    "accuracy(test_y,prediction)\n"
   ]
  },
  {
   "cell_type": "markdown",
   "metadata": {},
   "source": [
    "#### viewing an image in matplotlib"
   ]
  },
  {
   "cell_type": "code",
   "execution_count": 491,
   "metadata": {
    "scrolled": true
   },
   "outputs": [
    {
     "name": "stdout",
     "output_type": "stream",
     "text": [
      "Data set load Successful~~~\n",
      "Number of samples in training data : 209\n"
     ]
    },
    {
     "data": {
      "image/png": "[encoded data removed]",
      "text/plain": [
       "<Figure size 432x288 with 1 Axes>"
      ]
     },
     "metadata": {},
     "output_type": "display_data"
    },
    {
     "name": "stdout",
     "output_type": "stream",
     "text": [
      "This is a  b'cat' image\n"
     ]
    }
   ],
   "source": [
    "train_x, train_y, test_x,test_y,classes = load_data_set(training_file,test_file)\n",
    "index = 24\n",
    "plt.imshow(train_x[index])\n",
    "plt.show()\n",
    "print('This is a ',str(classes[train_y[index]][:]), 'image')"
   ]
  },
  {
   "cell_type": "code",
   "execution_count": null,
   "metadata": {},
   "outputs": [],
   "source": []
  }
 ],
 "metadata": {
  "kernelspec": {
   "display_name": "Python 3",
   "language": "python",
   "name": "python3"
  },
  "language_info": {
   "codemirror_mode": {
    "name": "ipython",
    "version": 3
   },
   "file_extension": ".py",
   "mimetype": "text/x-python",
   "name": "python",
   "nbconvert_exporter": "python",
   "pygments_lexer": "ipython3",
   "version": "3.6.5"
  }
 },
 "nbformat": 4,
 "nbformat_minor": 2
}
